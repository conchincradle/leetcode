{
  "nbformat": 4,
  "nbformat_minor": 0,
  "metadata": {
    "colab": {
      "name": "backtracking.ipynb",
      "provenance": [],
      "authorship_tag": "ABX9TyPkr59hNcJixuzLK9+EeQY1",
      "include_colab_link": true
    },
    "kernelspec": {
      "name": "python3",
      "display_name": "Python 3"
    },
    "language_info": {
      "name": "python"
    }
  },
  "cells": [
    {
      "cell_type": "markdown",
      "metadata": {
        "id": "view-in-github",
        "colab_type": "text"
      },
      "source": [
        "<a href=\"https://colab.research.google.com/github/conchincradle/leetcode/blob/main/backtracking.ipynb\" target=\"_parent\"><img src=\"https://colab.research.google.com/assets/colab-badge.svg\" alt=\"Open In Colab\"/></a>"
      ]
    },
    {
      "cell_type": "markdown",
      "source": [
        "# Backtracking\n",
        "#### global variable to store  the result\n"
      ],
      "metadata": {
        "id": "2-PqfR40Fa-x"
      }
    },
    {
      "cell_type": "code",
      "source": [
        "# definition of node\n",
        "# deepcopy ListNode\n",
        "# backtracking\n",
        "class Node:\n",
        "  def __init__(self,val:int ,next:'Node' =None,random:'Node' =None):\n",
        "    self.val=val\n",
        "    self.next=next\n",
        "    self.random=random\n",
        "class Solution:\n",
        "  def backtrack(self,head:'Node' ,myDict:dict ):\n",
        "    if head==None:\n",
        "      return None\n",
        "    if head not in myDict:\n",
        "      headNew = Node(head.val)\n",
        "      myDict[head]=headNew   # old nodes point to new nodes\n",
        "      headNew.next = self.backtrack(head.next,myDict)\n",
        "      headNew.random = self.backtrack(head.random,myDict)\n",
        "    return myDict[head] # return the new nodes\n",
        "  def copyRandomList(self,head:'Node') -> 'Node':\n",
        "    myDict={}\n",
        "    self.backtracking(head,myDict)\n",
        "    return myDict.get(head) # if head not in dict, then get(head) will return None\n"
      ],
      "metadata": {
        "id": "vJLpRaqz-JKj"
      },
      "execution_count": 60,
      "outputs": []
    },
    {
      "cell_type": "markdown",
      "source": [
        ""
      ],
      "metadata": {
        "id": "Bd8sm7cdFZHL"
      }
    }
  ]
}