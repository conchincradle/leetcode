{
  "nbformat": 4,
  "nbformat_minor": 0,
  "metadata": {
    "colab": {
      "name": "string_basic.ipynb",
      "provenance": [],
      "authorship_tag": "ABX9TyNAzHvVTLp0urj8/jxiPaQo",
      "include_colab_link": true
    },
    "kernelspec": {
      "name": "python3",
      "display_name": "Python 3"
    },
    "language_info": {
      "name": "python"
    }
  },
  "cells": [
    {
      "cell_type": "markdown",
      "metadata": {
        "id": "view-in-github",
        "colab_type": "text"
      },
      "source": [
        "<a href=\"https://colab.research.google.com/github/conchincradle/leetcode/blob/main/string_basic.ipynb\" target=\"_parent\"><img src=\"https://colab.research.google.com/assets/colab-badge.svg\" alt=\"Open In Colab\"/></a>"
      ]
    },
    {
      "cell_type": "markdown",
      "source": [
        "# string\n",
        "#### upper, lower, swapcase\n",
        "####  find, rfind, isdigit, split, splitlines\n",
        "#### lstrip, rstrip, strip\n",
        "#### join, translate, replace"
      ],
      "metadata": {
        "id": "2-PqfR40Fa-x"
      }
    },
    {
      "cell_type": "code",
      "source": [
        "s = \"Mike\"\n",
        "print(s[1:3]+' 1'*2) # Mike 1 1\n",
        "'M' not in s # False"
      ],
      "metadata": {
        "colab": {
          "base_uri": "https://localhost:8080/"
        },
        "id": "4Stv13FYebKl",
        "outputId": "0bb5e11a-f475-420d-c1d8-38764047a838"
      },
      "execution_count": 5,
      "outputs": [
        {
          "output_type": "stream",
          "name": "stdout",
          "text": [
            "ik 1 1\n"
          ]
        },
        {
          "output_type": "execute_result",
          "data": {
            "text/plain": [
              "False"
            ]
          },
          "metadata": {},
          "execution_count": 5
        }
      ]
    },
    {
      "cell_type": "code",
      "source": [
        "'mike'.capitalize() # Mike\n",
        "'MIKE'.casefold() # mike\n",
        "'Mike'.center(10,'*') # ***Mike***   9--***Mike**\n",
        "\n",
        "'aaaabbbb'.count('aa',0,4) # 2\n",
        "'aaaabbbb'.count('aa',0) # 2\n",
        "'aaaabbbb'.count('aa') # 2\n",
        "\n",
        "# encode, decode\n",
        "\n",
        "'Mike'.endswith('e') # True start, end\n",
        "'Mike'.startswith('M',1) # False, 0--True\n",
        "\n",
        "# expandtabs \n",
        "\n",
        "'Mike'.find('e') # 3\n",
        "'Mike'.find('e',1) # 3\n",
        "'Mike'.find('z') # -1\n",
        "'Mike'.find('e',-1) # 3\n",
        "'Mike'.find('e',0,4) # 3\n",
        "# s.index 一样，但是会抛出异常，而不是-1\n",
        "\n",
        "\"{} {} {}\".format('1','2','3') # 1 2 3\n",
        "\"{0} {1} {0}\".format('1','2','3') # 1 2 1\n",
        "\n",
        "person = {'name':\"Mike\",'age':30}\n",
        "'name: {name}, age: {age}'.format(**person) # name: Mike, age: 30\n",
        "'name: {name}, age: {age}'.format_map(person) # name: Mike, age: 30\n",
        "\n",
        "person = ['Mike',30]\n",
        "\"name: {0[0]} age: {0[1]}\".format(person) # name: Mike, age: 30\n",
        "# {0.value}-----self.value in class\n",
        "\n",
        "'{:.2f}'.format(3.1415) # 3.14  其他的需要的时候查文档\n",
        "\n",
        "''.isalnum() # False at least 1\n",
        "'a1'.isalnum() #True all alphabets and numbers\n",
        "'a'.isalpha() #True\n",
        "'13'.isdecimal() #True\n",
        "'12'.isdigit() #True\n",
        "\n",
        "'mike is 11'.islower() #True 字符都是小写\n",
        "# isupper\n",
        "\n",
        "max(\"zzZxc\") # z\n",
        "min(\"AazZ\") # A\n",
        "\"Mike\".replace(\"M\",'m') # mike\n",
        "\n",
        "intable = \"abcd\"\n",
        "outtable = \"1234\"\n",
        "trantab = str.maketrans(intable,outtable)\n",
        "'abcd1234'.translate(trantab) # 12341234\n",
        "\n",
        "\"*\".join(\"1234\") # 1*2*3*4\n",
        "\n"
      ],
      "metadata": {
        "colab": {
          "base_uri": "https://localhost:8080/",
          "height": 35
        },
        "id": "Bs1_lsva5QXU",
        "outputId": "fe56e1a2-1c3a-442c-cc13-9c273ec94659"
      },
      "execution_count": 67,
      "outputs": [
        {
          "output_type": "execute_result",
          "data": {
            "text/plain": [
              "'1*2*3*4'"
            ],
            "application/vnd.google.colaboratory.intrinsic+json": {
              "type": "string"
            }
          },
          "metadata": {},
          "execution_count": 67
        }
      ]
    },
    {
      "cell_type": "markdown",
      "source": [
        ""
      ],
      "metadata": {
        "id": "Bd8sm7cdFZHL"
      }
    },
    {
      "cell_type": "code",
      "source": [
        "# clear non alpha\n",
        "word = \"12ab12ba,,  --\"\n",
        "newword = [ _ for _ in word if _.isalpha()] # 极为重要 \n",
        "print(newword) # ['a', 'b', 'b', 'a']\n",
        "# palindrome\n",
        "flag = True\n",
        "left, right = 0, len(newword)-1 \n",
        "while(left<right):\n",
        "  if newword[left] != newword[right]:\n",
        "    flag = False\n",
        "    break\n",
        "  left  += 1\n",
        "  right -= 1\n",
        "flag\n",
        "# 另外一种就是判断都是数字字母，然后不区分大小写，leetcode 125\n",
        "# 直接upper，不会影响其他字符\n",
        "'1a'.upper() # 1A"
      ],
      "metadata": {
        "colab": {
          "base_uri": "https://localhost:8080/",
          "height": 35
        },
        "id": "qTK3XnaBJ8er",
        "outputId": "0d34fde5-3bd8-4e37-bebd-b695693ee817"
      },
      "execution_count": 73,
      "outputs": [
        {
          "output_type": "execute_result",
          "data": {
            "text/plain": [
              "'1A'"
            ],
            "application/vnd.google.colaboratory.intrinsic+json": {
              "type": "string"
            }
          },
          "metadata": {},
          "execution_count": 73
        }
      ]
    }
  ]
}