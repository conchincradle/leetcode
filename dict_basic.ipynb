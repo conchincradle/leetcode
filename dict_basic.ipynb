{
  "nbformat": 4,
  "nbformat_minor": 0,
  "metadata": {
    "colab": {
      "name": "dict_basic.ipynb",
      "provenance": [],
      "authorship_tag": "ABX9TyOAbcz5XZbQjfHhBt4zeTzs",
      "include_colab_link": true
    },
    "kernelspec": {
      "name": "python3",
      "display_name": "Python 3"
    },
    "language_info": {
      "name": "python"
    }
  },
  "cells": [
    {
      "cell_type": "markdown",
      "metadata": {
        "id": "view-in-github",
        "colab_type": "text"
      },
      "source": [
        "<a href=\"https://colab.research.google.com/github/conchincradle/leetcode/blob/main/dict_basic.ipynb\" target=\"_parent\"><img src=\"https://colab.research.google.com/assets/colab-badge.svg\" alt=\"Open In Colab\"/></a>"
      ]
    },
    {
      "cell_type": "markdown",
      "source": [
        "# Dictionary\n",
        "### clear,copy\n",
        "### fromkeys,get,setdefault,update\n",
        "### pop,popitem\n",
        "### items,keys,values"
      ],
      "metadata": {
        "id": "PNJJY2ic59C6"
      }
    },
    {
      "cell_type": "code",
      "execution_count": 85,
      "metadata": {
        "colab": {
          "base_uri": "https://localhost:8080/"
        },
        "id": "GNPVJvNG5DQE",
        "outputId": "57317824-244a-4dd2-e281-bd2a91d0a9af"
      },
      "outputs": [
        {
          "output_type": "stream",
          "name": "stdout",
          "text": [
            "{1: 'red'}\n",
            "{}\n",
            "{1: 2}\n"
          ]
        }
      ],
      "source": [
        "# dictionary basic\n",
        "myDict = {1:\"red\"}\n",
        "str(myDict)  # \"{1: 'red'}\"\n",
        "\n",
        "myDict.clear() #{}\n",
        "\n",
        "myDict = {1:2}\n",
        "cpDict=myDict.copy() # {1: 2}\n",
        "# key 必须不变，tuple,string,number\n",
        "# O(1)\n",
        "\n"
      ]
    },
    {
      "cell_type": "code",
      "source": [
        "# fromkeys--iterable obejct--list,dict,string,set,tuple,range\n",
        "myDict =dict.fromkeys((1,2))\n",
        "#{1: None, 2: None}\n",
        "myDict =dict.fromkeys([1,2,3])\n",
        "#{1: None, 2: None, 3: None}\n",
        "myDict =dict.fromkeys({1,2,3,4})\n",
        "#{1: None, 2: None, 3: None, 4: None}\n",
        "myDict =dict.fromkeys(\"12345\")\n",
        "# {'1': None, '2': None, '3': None, '4': None, '5': None}\n",
        "myDict =dict.fromkeys(range(1,7))\n",
        "#{1: None, 2: None, 3: None, 4: None, 5: None, 6: None}\n",
        "myDict =dict.fromkeys(\"12345\")\n",
        "#{'1': None, '2': None, '3': None, '4': None, '5': None}\n",
        "# fromkeys with values\n",
        "myDict =dict.fromkeys(\"12345\",10) #只能一直是这个\n",
        "#{'1': 10, '2': 10, '3': 10, '4': 10, '5': 10}\n",
        "\n",
        "# create dict from two iterable object\n",
        "myDict=dict(zip([1,2],\"123\")) # 以短的为准\n",
        "#{1: '1', 2: '2'}\n",
        "myDict=dict(zip({1,2,3},range(3))) # 以短的为准\n",
        "#{1: 0, 2: 1, 3: 2}\n",
        "myDict=dict(map(lambda key,value:[key,value],\"123\",[10,20,30,40]))\n",
        "#{1: 1, 2: 2, 3: 3}\n",
        "\n",
        "myDict={key:value//10 for key,value in zip([1,2,3],[10,20,30])} #列表推导式，并且可以用函数\n",
        "# {1: 1, 2: 2, 3: 3}\n",
        "\n",
        "# change dict\n",
        "myDict = {1:10,2:20,3:30}\n",
        "myDict={value:key for key,value in myDict.items()} # reverse, {10: 1, 20: 2, 30: 3}\n",
        "myDict\n",
        "# 如果重复的{1:10,2:10,3:30}\n",
        "# {10: 2, 30: 3}"
      ],
      "metadata": {
        "colab": {
          "base_uri": "https://localhost:8080/"
        },
        "id": "d8jwcGHC_kVY",
        "outputId": "2ca018f1-397c-4d4f-b5a8-a476e78f37b7"
      },
      "execution_count": 58,
      "outputs": [
        {
          "output_type": "execute_result",
          "data": {
            "text/plain": [
              "{10: 2, 30: 3}"
            ]
          },
          "metadata": {},
          "execution_count": 58
        }
      ]
    },
    {
      "cell_type": "code",
      "source": [
        "#直接myDict[4] 会 error\n",
        "30 in myDict # False\n",
        "3 in myDict # True 判断key\n",
        "3 not in myDict # False\n",
        "for key in myDict:\n",
        "  pass\n",
        "# items,values,keys\n",
        "myDict={1:10,2:20,3:30}\n",
        "myDict.items()# dict_items([(1, 10), (2, 20), (3, 30)]) iterbale object for key,value in myDict.items()\n",
        "list(myDict.keys()) # [1,2,3] 迭代里面直接用，也可以变成list\n",
        "myDict.values() # dict_values([10, 20, 30])\n",
        "#\n",
        "myDict.pop(1) # 10 删除key对应的\n",
        "myDict # {2: 20, 3: 30}\n",
        "# myDict.pop(4) error\n",
        "myDict.pop(4,\"Not exist\") # \"Not exist\"\n",
        "myDict.popitem() # (3, 30) the last pair\n",
        "myDict #{2: 20}\n",
        "\n",
        "# get the value from the key \n",
        "myDict={1:10,2:10,3:30} # key unique\n",
        "myDict.get(1) # 10\n",
        "myDict.get(4) # None 不会有error\n",
        "myDict.get(4,\"Not exist\") # Not exist 感觉很适合业务，不存在就返回什么\n",
        "# get 不会增加而setdefault会增加\n",
        "myDict.setdefault(4) # return None and add 4:None\n",
        "myDict # {1: 10, 2: 10, 3: 30, 4: None}\n",
        "myDict.setdefault(1) # 10\n",
        "myDict.setdefault(5,50) # return 50 an add 5:50\n",
        "myDict # {1: 10, 2: 10, 3: 30, 4: None, 5: 50}\n",
        "\n",
        "# update\n",
        "myDict={1:2}\n",
        "tinyDict={1:10}\n",
        "myDict.update(tinyDict)\n",
        "myDict # {1: 10} same key will update new value\n",
        "tinyDict={2:20}\n",
        "myDict.update(tinyDict)\n",
        "myDict # {1: 10, 2: 20}\n"
      ],
      "metadata": {
        "colab": {
          "base_uri": "https://localhost:8080/"
        },
        "id": "RtNdQlg2H4sm",
        "outputId": "6eca3c9a-bc8c-42da-a47c-90861282649f"
      },
      "execution_count": 84,
      "outputs": [
        {
          "output_type": "execute_result",
          "data": {
            "text/plain": [
              "[dict, object]"
            ]
          },
          "metadata": {},
          "execution_count": 84
        }
      ]
    },
    {
      "cell_type": "code",
      "source": [
        "# del,len\n",
        "myDict = {1:10,2:20}\n",
        "del myDict[1]\n",
        "myDict #{2: 20}\n",
        "del myDict\n",
        "# myDict error, myDict not exist\n",
        "myDict = {1:10,2:20}\n",
        "len(myDict) #2\n",
        "# for\n",
        "for "
      ],
      "metadata": {
        "colab": {
          "base_uri": "https://localhost:8080/"
        },
        "id": "_VDfHa_W2o9n",
        "outputId": "c39c224c-0e05-472e-a74b-eaa05f03b5bd"
      },
      "execution_count": 92,
      "outputs": [
        {
          "output_type": "execute_result",
          "data": {
            "text/plain": [
              "2"
            ]
          },
          "metadata": {},
          "execution_count": 92
        }
      ]
    },
    {
      "cell_type": "code",
      "source": [
        "# directed graph\n",
        "from collections import defaultdict\n",
        "graph=[[0,1],[0,2],[2,3]]\n",
        "gra = defaultdict(set)\n",
        "for start,end in graph:\n",
        "  gra[start].add(end)\n",
        "gra # defaultdict(<class 'set'>, {0: {1, 2}, 2: {3}})\n",
        "\n",
        "# undirected graph\n",
        "ungra=defaultdict(set)\n",
        "for left,right in graph:\n",
        "  ungra[left].add(right)\n",
        "  ungra[right].add(left)\n",
        "ungra # defaultdict(set, {0: {1, 2}, 1: {0}, 2: {0, 3}, 3: {2}})\n",
        "\n"
      ],
      "metadata": {
        "colab": {
          "base_uri": "https://localhost:8080/"
        },
        "id": "Vd_CuUC9NnIP",
        "outputId": "c75d148c-42d5-4bf3-c206-f532bf5743e2"
      },
      "execution_count": 89,
      "outputs": [
        {
          "output_type": "execute_result",
          "data": {
            "text/plain": [
              "defaultdict(set, {0: {1, 2}, 1: {0}, 2: {0, 3}, 3: {2}})"
            ]
          },
          "metadata": {},
          "execution_count": 89
        }
      ]
    },
    {
      "cell_type": "code",
      "source": [
        ""
      ],
      "metadata": {
        "id": "ky3uB0w11eHz"
      },
      "execution_count": null,
      "outputs": []
    }
  ]
}