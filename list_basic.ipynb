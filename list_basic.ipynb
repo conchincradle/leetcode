{
  "nbformat": 4,
  "nbformat_minor": 0,
  "metadata": {
    "colab": {
      "name": "list_basic.ipynb",
      "provenance": [],
      "authorship_tag": "ABX9TyNSLcGiULMVnjMUdXitOu61",
      "include_colab_link": true
    },
    "kernelspec": {
      "name": "python3",
      "display_name": "Python 3"
    },
    "language_info": {
      "name": "python"
    }
  },
  "cells": [
    {
      "cell_type": "markdown",
      "metadata": {
        "id": "view-in-github",
        "colab_type": "text"
      },
      "source": [
        "<a href=\"https://colab.research.google.com/github/conchincradle/leetcode/blob/main/list_basic.ipynb\" target=\"_parent\"><img src=\"https://colab.research.google.com/assets/colab-badge.svg\" alt=\"Open In Colab\"/></a>"
      ]
    },
    {
      "cell_type": "markdown",
      "source": [
        "# List\n",
        "#### append,insert,extend,+,*,in,not in,\n",
        "####  count,index\n",
        "#### pop(index),remove(value)\n",
        "#### sort(key,reverse), reverse,\n",
        "#### clear, copy"
      ],
      "metadata": {
        "id": "2-PqfR40Fa-x"
      }
    },
    {
      "cell_type": "code",
      "execution_count": 42,
      "metadata": {
        "colab": {
          "base_uri": "https://localhost:8080/"
        },
        "id": "k5D7mgqhFYJf",
        "outputId": "40a566b7-933d-4e38-c4d3-ab63779919de"
      },
      "outputs": [
        {
          "output_type": "execute_result",
          "data": {
            "text/plain": [
              "[3, 1]"
            ]
          },
          "metadata": {},
          "execution_count": 42
        }
      ],
      "source": [
        "# basic\n",
        "myList=list(range(3)) #[0,1,2]\n",
        "myList.append(3)#[0, 1, 2, 3]\n",
        "myList.copy()\n",
        "myList.append(1) # [0, 1, 2, 3, 1]\n",
        "\n",
        "myList.count(1) # 2 计算元素个数\n",
        "myList.extend((1,2))#[0, 1, 2, 3, 1, 1, 2]\n",
        "myList.extend(\"12\") # [0, 1, 2, 3, 1, 1, 2, '1', '2']\n",
        "myList.extend(zip([1],[2])) # [0, 1, 2, 3, 1, 1, 2, '1', '2', (1, 2)]\n",
        "\n",
        "myList +=[1] #[0, 1, 2, 3, 1, 1, 2, '1', '2', (1, 2), 1]\n",
        "# also could *4 \n",
        "myList.index(1) # 1 the first index, if not error happens\n",
        "myList.index(1,3,5) # find from [3,5) 4 \n",
        "\n",
        "myList.insert(-1,1) # add 1 into index=-1\n",
        "myList.pop(-1) # pop the last element or other index\n",
        "\n",
        "myList.reverse() # reverse the list [1, (1, 2), '2', '1', 2, 1, 1, 3, 2, 1, 0]\n",
        "myList.pop(1)\n",
        "myList.pop(1)\n",
        "myList.pop(1)\n",
        "myList.remove(1) # the first corresponded value\n",
        "\n",
        "myList.sort() #[0, 1, 1, 1, 1, 2, 2, 3]\n",
        "myList=[[1,2],[3,1]]\n",
        "myList.sort(key=lambda x:x[1],reverse=False) #[[3, 1], [1, 2]] 指定第二个，升序\n",
        "\n",
        "# max,min\n",
        "max(myList) # (3,1)\n",
        "\n",
        "\n",
        "#myList.clear() # []\n",
        "#del myList"
      ]
    },
    {
      "cell_type": "code",
      "source": [
        "\n"
      ],
      "metadata": {
        "colab": {
          "base_uri": "https://localhost:8080/"
        },
        "id": "mAHDr1RNlvDs",
        "outputId": "306fe144-c381-4358-a67a-bfe4ba86f0fc"
      },
      "execution_count": 58,
      "outputs": [
        {
          "output_type": "stream",
          "name": "stdout",
          "text": [
            "3\n"
          ]
        }
      ]
    },
    {
      "cell_type": "code",
      "source": [
        "# unittest\n",
        "# test case\n",
        "def unittest(s):\n",
        "  assert s.add(1,2)==3\n",
        "  assert s.add(1000,2)==1002\n",
        "  assert s.add(100,2)==102\n",
        "\n",
        "\n",
        "class Solution():\n",
        "  def add(self,a,b):\n",
        "    return a+b\n",
        "s = Solution()\n",
        "unittest(s)\n"
      ],
      "metadata": {
        "id": "gwgPBcYMJeqa"
      },
      "execution_count": 54,
      "outputs": []
    },
    {
      "cell_type": "markdown",
      "source": [
        ""
      ],
      "metadata": {
        "id": "Bd8sm7cdFZHL"
      }
    }
  ]
}